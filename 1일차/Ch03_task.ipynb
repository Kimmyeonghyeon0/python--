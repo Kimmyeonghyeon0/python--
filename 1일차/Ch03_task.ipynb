{
 "cells": [
  {
   "cell_type": "markdown",
   "metadata": {},
   "source": [
    "<span style=\"font-size:100%\">\n",
    "\n",
    "수업은 모두 열심히 들으셨나요?\n",
    "\n",
    "간혹 강의에서 언급되지 않은 내용이 문제로 나올 수 있습니다.<br>\n",
    "그럴땐 강의 내용 외 문제는 구글링을 통해 해결해주세요<br></span>\n",
    "<span style=\"font-size:80%\">\n",
    "(구글링 또한 개발자가 갖쳐야할 역량 중에 하나랍니다 😊)\n",
    "</span>\n",
    "\n",
    "---"
   ]
  },
  {
   "cell_type": "markdown",
   "metadata": {},
   "source": [
    "<span style=\"font-size:80%\">[문제1]<br><br></span>\n",
    "```주로 작성 중인 코드의 끝을 알리는 기호로 사용되며 파이썬에서 한 줄에 작성된 서로 다른 코드를 구분 지을 때 사용할 수 있는 기호를 골라주세요```\n",
    "\n",
    "1. ' , ' (쉼표)\n",
    "2. ' + ' (더하기 기호)\n",
    "3. ' ; ' (세미콜론)\n",
    "4. ' / ' (슬래시)"
   ]
  },
  {
   "cell_type": "markdown",
   "metadata": {},
   "source": [
    "<span style=\"color:red\">답변</span> :"
   ]
  },
  {
   "cell_type": "markdown",
   "metadata": {},
   "source": [
    "3. ';' (세미콜론)"
   ]
  },
  {
   "cell_type": "markdown",
   "metadata": {},
   "source": [
    "----"
   ]
  },
  {
   "cell_type": "markdown",
   "metadata": {},
   "source": [
    "<span style=\"font-size:80%\">[문제2]<br><br></span>\n",
    "```Python의 PEP 8은 무엇인지 설명하고 PEP 8의 핵심적인 규칙을 1개 이상을 설명해주세요```"
   ]
  },
  {
   "cell_type": "markdown",
   "metadata": {},
   "source": [
    "<span style=\"color:red\">답변</span>"
   ]
  },
  {
   "cell_type": "markdown",
   "metadata": {},
   "source": [
    "pep 8은 파이썬 코드의 스타일 가이드라인을 의미합니다. 이 가이드 라인으로 가독을 개선하고 협업에 원할하게 하기위해 설계되었습니다\n",
    "\n",
    "핵심적인 규칙\n",
    "1. 들여쓰기\n",
    "    공백 4칸을 사용하여 들여쓰기를 한다 탭대신 공백을 사용하는 것을 권장\n",
    "2. 라인 길이\n",
    "    코드 라인은 79자 이하로 유지하는 것이 좋다\n",
    "3. 빈 줄\n",
    "    함수와 클래스 정의 사이에는 두줄의 빈 공간을 넣습니다\n",
    "    함수 내의 논리적 구역 사이에는 한줄의 빈줄을 넣습니다"
   ]
  },
  {
   "cell_type": "markdown",
   "metadata": {},
   "source": [
    "----"
   ]
  },
  {
   "cell_type": "markdown",
   "metadata": {},
   "source": [
    "<span style=\"font-size:80%\">[문제3]<br><br></span>\n",
    "```Python에서 \"#\"이 의마하는 것은 무엇인지 설명해주세요```"
   ]
  },
  {
   "cell_type": "markdown",
   "metadata": {},
   "source": [
    "<span style=\"color:red\">답변</span>"
   ]
  },
  {
   "cell_type": "markdown",
   "metadata": {},
   "source": [
    "주석 : 개발자가 메모를 할 때나 코드 작성자가 어떠한 내용을 입력한건지 입력할때에 사용이된다"
   ]
  },
  {
   "cell_type": "markdown",
   "metadata": {},
   "source": [
    "----"
   ]
  },
  {
   "cell_type": "markdown",
   "metadata": {},
   "source": [
    "<span style=\"font-size:80%\">[문제4]<br><br></span>\n",
    "```Python의 들여쓰기 장점과 기능에 대해 설명해주세요```"
   ]
  },
  {
   "cell_type": "markdown",
   "metadata": {},
   "source": [
    "<span style=\"color:red\">답변</span>"
   ]
  },
  {
   "cell_type": "markdown",
   "metadata": {},
   "source": [
    "들여쓰기의 장점 :  코드의 가독성이 좋고 중괄호대신 자연스러운 블록구분이 가능합니다 그리고 에러감소와 간결한 코드작성에 좋습니다\n",
    "\n",
    "기능 : 1. 코드블록 정의 - if, for, while, def, class와 같은 문장 이후에 나오는 코드블록을 구분하는데 사용됩니다\n",
    "      2. 네스팅 - 복잡한 구조문이나 반복문을 구성할 때 각 블록의 범위를 명확하게 할 수 있다\n",
    "      "
   ]
  },
  {
   "cell_type": "markdown",
   "metadata": {},
   "source": [
    "----"
   ]
  },
  {
   "cell_type": "markdown",
   "metadata": {},
   "source": [
    "<span style=\"font-size:80%\">[문제5]<br><br></span>\n",
    "```print( )문의 기능 및 특징에 대해 설명해주세요```"
   ]
  },
  {
   "cell_type": "markdown",
   "metadata": {},
   "source": [
    "<span style=\"color:red\">답변</span>"
   ]
  },
  {
   "cell_type": "code",
   "execution_count": null,
   "metadata": {
    "vscode": {
     "languageId": "plaintext"
    }
   },
   "outputs": [],
   "source": [
    "1. print() 함수는 콘솔에 데이터를 출력합니다\n",
    "2. 여러 인자를 공백으로 구분하여 출력할 수 있습니다\n",
    "3. sep 매개변수로 버퍼링을 제어할 수 있습니다\n",
    "4. flush 매개 변수로 버퍼링을 제어할 수 있습니다\n",
    "5. 포맷 문자열을 사용하여 출력을 파일로 리디랙션할 수 있습니다\n",
    "\n",
    "print()는 python에서 데이터를 효과적으로  출력하고 형식을 조정하는데 매우 유용합니다"
   ]
  },
  {
   "cell_type": "markdown",
   "metadata": {},
   "source": []
  }
 ],
 "metadata": {
  "language_info": {
   "name": "python"
  }
 },
 "nbformat": 4,
 "nbformat_minor": 2
}
