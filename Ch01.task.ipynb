{
 "cells": [
  {
   "cell_type": "markdown",
   "metadata": {},
   "source": [
    "<span style=\"font-size:100%\">\n",
    "\n",
    "수업은 모두 열심히 들으셨나요?\n",
    "\n",
    "간혹 강의에서 언급되지 않은 내용이 문제로 나올 수 있습니다.<br>\n",
    "그럴땐 강의 내용 외 문제는 구글링을 통해 해결해주세요<br></span>\n",
    "<span style=\"font-size:80%\">\n",
    "(구글링 또한 개발자가 갖쳐야할 역량 중에 하나랍니다 😊)\n",
    "</span>\n",
    "\n",
    "---"
   ]
  },
  {
   "cell_type": "markdown",
   "metadata": {},
   "source": [
    "<span style=\"font-size:80%\">[문제1]<br><br></span>\n",
    "```인터프리트 방식에 대해 설명하고 2개 이상의 장점을 설명해주세요```"
   ]
  },
  {
   "cell_type": "markdown",
   "metadata": {},
   "source": [
    "<span style=\"color:red\">답변</span>"
   ]
  },
  {
   "cell_type": "markdown",
   "metadata": {},
   "source": [
    "1. 오류 발생하면 일던 부분에서 멈춰서 오류를 발견하기 쉽다\n",
    "2. 컴파일이라는 과정이 없어 오류 수정이 빠르게 진행이 된다\n",
    "3. 인터프리터를 이용하면 바로 읽어내기 때문에 프로그램의 이식성이 좋다"
   ]
  },
  {
   "cell_type": "markdown",
   "metadata": {},
   "source": [
    "---"
   ]
  },
  {
   "cell_type": "markdown",
   "metadata": {},
   "source": [
    "<span style=\"font-size:80%\">[문제2]<br><br></span>\n",
    "```동적 타입 방식의 장점과 단점을 간략히 설명해주세요```"
   ]
  },
  {
   "cell_type": "markdown",
   "metadata": {},
   "source": [
    "<span style=\"color:red\">답변</span>"
   ]
  },
  {
   "cell_type": "markdown",
   "metadata": {},
   "source": [
    "1. 장점\n",
    "    *개발속도가 빠르며 간단하고 간결하게 코드를 입력 가능하다\n",
    "2. 단점\n",
    "    *코드 예측이 어렵고 실행중에 타입관련 오류가 발생할 수 있고 이는 실행 주에만 감지된다 "
   ]
  },
  {
   "cell_type": "markdown",
   "metadata": {},
   "source": [
    "---"
   ]
  },
  {
   "cell_type": "markdown",
   "metadata": {},
   "source": [
    "<span style=\"font-size:80%\">[문제3]<br><br></span>\n",
    "```Python으로 정적타입 방식의 코드를 작성할 수 있는 방법을 구글링을 통해 검색 후 설명해주세요```"
   ]
  },
  {
   "cell_type": "markdown",
   "metadata": {},
   "source": [
    "<span style=\"color:red\">답변</span>"
   ]
  },
  {
   "cell_type": "markdown",
   "metadata": {},
   "source": [
    "1. 파이썬 3.5버전 이후로 typing 모듈이 추가 되어서 타입힌트를 추가할 수 있습니다\n",
    "(함수의 매개변수와 반환값의 타입을 명시할 수있다)\n",
    "2. 타입힌트는 주석처럼 사용이 되지만 사실 타입체크를 하기 위해서는 별도의 도구(mypy)를 사용해야 합니다\n",
    "3. 복잡한 타입 구조를 정의할 때 제네릭과 타입 변수를 사용할 수 있습니다\n",
    "4. 데코레이션을 사용하여 간단하게 데이터 클래스를 정의하고 타입힌트를 사용할 수 있습니다\n"
   ]
  },
  {
   "cell_type": "markdown",
   "metadata": {},
   "source": [
    "---"
   ]
  },
  {
   "cell_type": "markdown",
   "metadata": {},
   "source": [
    "<span style=\"font-size:80%\">[문제4]<br><br></span>\n",
    "```프로세스와 스레드의 차이점을 설명해주세요```"
   ]
  },
  {
   "cell_type": "markdown",
   "metadata": {},
   "source": [
    "<span style=\"color:red\">답변</span>"
   ]
  },
  {
   "cell_type": "markdown",
   "metadata": {},
   "source": [
    "프로세스는 독립된 실행 단위로 자체적인 메모리 공간을 가지고 있습니다그리고 독립적이며 스레드보다 생성이나 종료에 많은 시스템 지원을 사용합니다\n",
    "스레드는 프로세스내에서 실행되는 경량의 실행단위로 스레드 간에 문맥교환은 빠르고 프로세스보다 자원을 적게 소모하고 멀티 태스킹이 가능합니다\n"
   ]
  },
  {
   "cell_type": "markdown",
   "metadata": {},
   "source": [
    "---"
   ]
  },
  {
   "cell_type": "markdown",
   "metadata": {},
   "source": [
    "<span style=\"font-size:80%\">[문제5]<br><br></span>\n",
    "```Python 2버전대와 3버전대의 차이를 성명해주세요```"
   ]
  },
  {
   "cell_type": "markdown",
   "metadata": {},
   "source": [
    "<span style=\"color:red\">답변</span>"
   ]
  },
  {
   "cell_type": "markdown",
   "metadata": {},
   "source": [
    "1, print문법의 차이\n",
    "    - 2버전 : print는 statement으로 사용\n",
    "    - 3버전 : print는 function으로 사용되고 ()가 필요\n",
    "\n",
    "2. range와 xrange\n",
    "    - 2버전 : range는 리스트를 반환 xrange는 이터레이터를 반환\n",
    "    - 3버전 : range는 이터레이터를 반환 xrange는 제거되었습니다\n"
   ]
  },
  {
   "cell_type": "markdown",
   "metadata": {},
   "source": [
    "---"
   ]
  },
  {
   "cell_type": "markdown",
   "metadata": {},
   "source": [
    "<span style=\"font-size:80%\">[문제6]<br><br></span>\n",
    "```Python에서 메모리 관리는 어떻게 이루어지는지 설명해주세요```"
   ]
  },
  {
   "cell_type": "markdown",
   "metadata": {},
   "source": [
    "<span style=\"color:red\">답변</span>"
   ]
  },
  {
   "cell_type": "markdown",
   "metadata": {},
   "source": [
    "python에서 메모리 관리는 참조카운팅과 가비지 컬렉션으로 이루어져있습니다\n",
    "이 두가지의 매커니즘은 메모리의 사용을 최적화해주고 메모리 관리를 자동으로 처리하는데 중요한 역할을 합니다"
   ]
  }
 ],
 "metadata": {
  "language_info": {
   "name": "python"
  }
 },
 "nbformat": 4,
 "nbformat_minor": 2
}
